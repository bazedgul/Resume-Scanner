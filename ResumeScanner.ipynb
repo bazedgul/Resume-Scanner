{
  "nbformat": 4,
  "nbformat_minor": 0,
  "metadata": {
    "colab": {
      "provenance": [],
      "authorship_tag": "ABX9TyPABDDRe/BEhcIR2AxO5LpY",
      "include_colab_link": true
    },
    "kernelspec": {
      "name": "python3",
      "display_name": "Python 3"
    },
    "language_info": {
      "name": "python"
    }
  },
  "cells": [
    {
      "cell_type": "markdown",
      "metadata": {
        "id": "view-in-github",
        "colab_type": "text"
      },
      "source": [
        "<a href=\"https://colab.research.google.com/github/bazedgul/Resume-Scanner/blob/main/ResumeScanner.ipynb\" target=\"_parent\"><img src=\"https://colab.research.google.com/assets/colab-badge.svg\" alt=\"Open In Colab\"/></a>"
      ]
    },
    {
      "cell_type": "code",
      "execution_count": 1,
      "metadata": {
        "colab": {
          "base_uri": "https://localhost:8080/"
        },
        "id": "uz3bLJXIXfMt",
        "outputId": "91f04d85-519a-41f6-a561-c1fec2285654"
      },
      "outputs": [
        {
          "output_type": "stream",
          "name": "stdout",
          "text": [
            "Collecting docx2txt\n",
            "  Downloading docx2txt-0.8.tar.gz (2.8 kB)\n",
            "  Preparing metadata (setup.py) ... \u001b[?25l\u001b[?25hdone\n",
            "Building wheels for collected packages: docx2txt\n",
            "  Building wheel for docx2txt (setup.py) ... \u001b[?25l\u001b[?25hdone\n",
            "  Created wheel for docx2txt: filename=docx2txt-0.8-py3-none-any.whl size=3960 sha256=56b16033f5e5f60833626b9b8219c51bdfb776c875dfd24da51646eb08744c7b\n",
            "  Stored in directory: /root/.cache/pip/wheels/22/58/cf/093d0a6c3ecfdfc5f6ddd5524043b88e59a9a199cb02352966\n",
            "Successfully built docx2txt\n",
            "Installing collected packages: docx2txt\n",
            "Successfully installed docx2txt-0.8\n"
          ]
        }
      ],
      "source": [
        "!pip install docx2txt\n",
        "import docx2txt"
      ]
    },
    {
      "cell_type": "code",
      "source": [
        "job_description = docx2txt.process('/content/job-description.docx')\n",
        "resume = docx2txt.process('/content/Bazed Gul Resume.docx')"
      ],
      "metadata": {
        "id": "BM_NHBRUXw7J"
      },
      "execution_count": 2,
      "outputs": []
    },
    {
      "cell_type": "code",
      "source": [
        "print(resume)"
      ],
      "metadata": {
        "colab": {
          "base_uri": "https://localhost:8080/"
        },
        "id": "zSROb9sUYVAR",
        "outputId": "4571602c-a475-4305-c261-11fe03f134e7"
      },
      "execution_count": 3,
      "outputs": [
        {
          "output_type": "stream",
          "name": "stdout",
          "text": [
            "Bazed Gul \n",
            "\n",
            "Lahore, Pakistan.\n",
            "\n",
            "+923100933994\n",
            "\n",
            "\tbazedmmii@gmail.com\n",
            "\n",
            "\thttps://www.linkedin.com/in/bazedgul \n",
            "\n",
            "As a 6th-semester student pursuing a Bachelor of Science in Software Engineering at the University of Lahore, I am actively seeking opportunities to apply my skills and gain hands-on experience in the field of software development. \n",
            "\n",
            "Throughout my academic journey, I have honed my technical skills and demonstrated my ability to work collaboratively in a team. I have also completed several projects that have allowed me to develop my problem-solving abilities and creative thinking. \n",
            "\n",
            "If you're interested in exploring how I can contribute to your team, please feel free to reach out to me. I'm open to discussing internship opportunities and excited about the potential to apply my skills and learn from experienced professionals in the field. \n",
            "\n",
            "\n",
            "\n",
            "Skills \n",
            "\n",
            "ReactJS, JavaScript & jQuery , NodeJS, Express\n",
            "\n",
            "C++, Java, PHP and Object Oriented Programming \n",
            "\n",
            "HTML5, CSS3 Bootstrap and Tailwindcss \n",
            "\n",
            "GIT and GitHub \n",
            "\n",
            "MongoDB, MySQL and MSSQL \n",
            "\n",
            "Postman, PHP My Admin, Canva, Microsoft SQL Server Management Studio, Visual Code and \n",
            "\n",
            "IntelliJ \n",
            "\n",
            "\n",
            "\n",
            "Projects \n",
            "\n",
            "Covid19 Management for University of Lahore. This was semester project where we had to implement object oriented programming concepts and create a CRUD based console application in C++.   \n",
            "\n",
            "Git URL: https://github.com/bazedgul/CovidProject \n",
            "\n",
            "My ADHD (Attention Deficit Hyperactivity Disorder) o This was Semester Project, we documented attention deficit hyperactivity disorder (ADHD). we worked on human factor, need finding, Survey, Prototypes, Evaluation and Execution. \n",
            "\n",
            "Git URL: https://github.com/bazedgul/MyADHD.git  \n",
            "\n",
            "React Integration with PHP o This was an assignment in my course Web Engineering, where I had designed and developed UI in ReactJS with bootstrap and did create CRUD APIs in PHP which was connected with MySQL database.\n",
            "\n",
            "      o Git URL: https://github.com/bazedgul/SignUpForm  \n",
            "\n",
            "React Integration with NodeJS o E-commerce dashboard, we learn how to Call API for product list in the ReactJS and NodeJS language. we can also say that this is a MERN stack project. Which was connected with MongoDB.\n",
            "\n",
            "      o Git URL: https://github.com/bazedgul/Mern-Project \n",
            "\n",
            "\n",
            "\n",
            "\n",
            "\n",
            "       \n",
            "\n",
            " \n",
            "\n",
            "Education \n",
            "\n",
            "OCT 2020 – PRESENT \n",
            "\n",
            "Bachelor of Software Engineering/University of Lahore, Lahore. \n",
            "\n",
            "Learning to develop software applications with different technologies like .Net, Databases, Java Software development, Networking, E-Commerce, Software Requirement Engineering, Software Design and Architecture, Software Project Management and Human Computer Interaction and Operation \n",
            "\n",
            "Research’s.   \n",
            "\n",
            "\n",
            "\n",
            "Honors & Awards \n",
            "\n",
            " \n",
            "\n",
            "DEC-2016 \n",
            "\n",
            "Running Competition/ Phoenix School, Hyderabad. \n",
            "\n",
            "Awarded for best performance in month of July 2020. \n",
            "\n",
            " \n",
            "\n",
            "JUL-2018 \n",
            "\n",
            "Speech Competition/Phoenix School, Hyderabad. \n",
            "\n",
            "Awarded for best performance in quarter among the newly recruited employees broad peak. \n",
            "\n",
            " \n",
            "\n",
            "\n",
            "\n",
            "Certifications \n",
            "\n",
            "\n",
            "\n",
            "May-2023 \n",
            "\n",
            "Google Digital Garage\n",
            "\n",
            "\n",
            "\n",
            "JAN-2021 \n",
            "\n",
            "JavaScript, HTML5, CSS3/LinkedIn \n",
            "\n",
            " \n",
            "\n",
            "MAR-2011 \n",
            "\n",
            "English Language Course/American Communication Council, Hyderabad. \n",
            "\n",
            " \n",
            "\n",
            "DEC-2010 \n",
            "\n",
            "Adobe Photoshop & Adobe Illustrator/Mastermind Computer Academy, Hyderabad.\n"
          ]
        }
      ]
    },
    {
      "cell_type": "code",
      "source": [
        "print(job_description)"
      ],
      "metadata": {
        "colab": {
          "base_uri": "https://localhost:8080/"
        },
        "id": "2_RwfSTPYb4Z",
        "outputId": "380adac8-0339-4d67-b59e-639ccdf51ba6"
      },
      "execution_count": 4,
      "outputs": [
        {
          "output_type": "stream",
          "name": "stdout",
          "text": [
            "We're in search of a dedicated Full Stack Web Developer with robust Content Management System (CMS) expertise. At No Joke Marketing, we thrive on creativity and innovation, and we’re looking for someone with a keen eye for web design and an in-depth understanding of back-end management to bring our web visions to life.\n",
            "\n",
            "Responsibilities:\n",
            "\n",
            "\n",
            "\n",
            "Design, develop, and manage dynamic websites using a range of CMS platforms.\n",
            "\n",
            "Implement responsive web designs that adapt and optimize across devices.\n",
            "\n",
            "Manage all aspects of the back-end, including database management, server integration, and API integrations.\n",
            "\n",
            "Collaborate with our creative team to translate designs into functional and user-friendly websites.\n",
            "\n",
            "Regularly update content, ensuring all website elements are functional and up-to-date.\n",
            "\n",
            "Implement SEO best practices to maximize online visibility.\n",
            "\n",
            "Troubleshoot and resolve web-related issues promptly.\n",
            "\n",
            "Continuously learn and adapt to emerging web technologies and best practices.\n",
            "\n",
            "\n",
            "Qualifications:\n",
            "\n",
            "\n",
            "\n",
            "Proven experience as a Web Developer or similar role.\n",
            "\n",
            "Expertise in CMS platforms (e.g., WordPress, Joomla, Drupal).\n",
            "\n",
            "Proficiency in front-end technologies (HTML5, CSS3, JavaScript, jQuery).\n",
            "\n",
            "Deep understanding of back-end languages (e.g., PHP, Python) and databases (e.g., MySQL, MongoDB).\n",
            "\n",
            "Demonstrated web design abilities, with a portfolio of projects.\n",
            "\n",
            "Familiarity with web server technologies (e.g., Apache, Nginx).\n",
            "\n",
            "Strong problem-solving skills with a detail-oriented mindset.\n",
            "\n",
            "Excellent communication and teamwork skills.\n",
            "\n",
            "\n",
            "What We Offer:\n",
            "\n",
            "\n",
            "\n",
            "Competitive Salary\n",
            "\n",
            "Collaborative Work Environment\n",
            "\n",
            "Ongoing Training and Development\n",
            "\n",
            "Career Advancement Opportunities\n"
          ]
        }
      ]
    },
    {
      "cell_type": "code",
      "source": [
        "content = [job_description, resume]"
      ],
      "metadata": {
        "id": "cIIayfPwYlF8"
      },
      "execution_count": 5,
      "outputs": []
    },
    {
      "cell_type": "code",
      "source": [
        "from sklearn.feature_extraction.text import CountVectorizer\n",
        "cv = CountVectorizer()\n",
        "matrix = cv.fit_transform(content)"
      ],
      "metadata": {
        "id": "utZ6EMt0ZEg6"
      },
      "execution_count": 6,
      "outputs": []
    },
    {
      "cell_type": "code",
      "source": [
        "from sklearn.metrics.pairwise import cosine_similarity\n",
        "similarity_matrix = cosine_similarity(matrix)"
      ],
      "metadata": {
        "id": "aZsMey8kZuLJ"
      },
      "execution_count": 7,
      "outputs": []
    },
    {
      "cell_type": "code",
      "source": [
        "print(similarity_matrix)"
      ],
      "metadata": {
        "colab": {
          "base_uri": "https://localhost:8080/"
        },
        "id": "oaftksAMam5e",
        "outputId": "4ec3e871-356c-4535-93a5-ebff3755274d"
      },
      "execution_count": 8,
      "outputs": [
        {
          "output_type": "stream",
          "name": "stdout",
          "text": [
            "[[1.         0.54192172]\n",
            " [0.54192172 1.        ]]\n"
          ]
        }
      ]
    },
    {
      "cell_type": "code",
      "source": [
        "print('Resume Matches by : ' + str(similarity_matrix[1][0]*100)+  '%')"
      ],
      "metadata": {
        "colab": {
          "base_uri": "https://localhost:8080/"
        },
        "id": "Z4chuU92a90r",
        "outputId": "4a195dbc-a001-47dc-c526-8685b1932813"
      },
      "execution_count": 9,
      "outputs": [
        {
          "output_type": "stream",
          "name": "stdout",
          "text": [
            "Resume Matches by : 54.19217233270259%\n"
          ]
        }
      ]
    }
  ]
}